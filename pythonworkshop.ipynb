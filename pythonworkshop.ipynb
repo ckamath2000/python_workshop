{
  "nbformat": 4,
  "nbformat_minor": 0,
  "metadata": {
    "colab": {
      "name": "Tutorial.ipynb",
      "provenance": [],
      "collapsed_sections": [],
      "authorship_tag": "ABX9TyM431Z7SzLtssvs2+5Rda2/",
      "include_colab_link": true
    },
    "kernelspec": {
      "name": "python3",
      "display_name": "Python 3"
    }
  },
  "cells": [
    {
      "cell_type": "markdown",
      "metadata": {
        "id": "view-in-github",
        "colab_type": "text"
      },
      "source": [
        "<a href=\"https://colab.research.google.com/github/ckamath2000/python_workshop/blob/main/pythonworkshop.ipynb\" target=\"_parent\"><img src=\"https://colab.research.google.com/assets/colab-badge.svg\" alt=\"Open In Colab\"/></a>"
      ]
    },
    {
      "cell_type": "code",
      "metadata": {
        "colab": {
          "base_uri": "https://localhost:8080/"
        },
        "id": "2GXKyHbX_8f4",
        "outputId": "045a75f4-22f2-4d88-a957-8229137c1757"
      },
      "source": [
        "print('hello world')"
      ],
      "execution_count": 2,
      "outputs": [
        {
          "output_type": "stream",
          "text": [
            "hello world\n"
          ],
          "name": "stdout"
        }
      ]
    },
    {
      "cell_type": "code",
      "metadata": {
        "colab": {
          "base_uri": "https://localhost:8080/"
        },
        "id": "PtYiikfJBihk",
        "outputId": "5f96128d-cf9f-4972-c432-c55c142f8c92"
      },
      "source": [
        "for i in range(0,10):\n",
        "  i=i+1\n",
        "i"
      ],
      "execution_count": 5,
      "outputs": [
        {
          "output_type": "execute_result",
          "data": {
            "text/plain": [
              "10"
            ]
          },
          "metadata": {
            "tags": []
          },
          "execution_count": 5
        }
      ]
    },
    {
      "cell_type": "code",
      "metadata": {
        "colab": {
          "base_uri": "https://localhost:8080/"
        },
        "id": "Za4Eo9i9DxyU",
        "outputId": "bd9b06d8-96c3-49e0-ce5c-93780419f8d0"
      },
      "source": [
        "x=5\n",
        "y='John'\n",
        "print(x)\n",
        "print(y)"
      ],
      "execution_count": 7,
      "outputs": [
        {
          "output_type": "stream",
          "text": [
            "5\n",
            "John\n"
          ],
          "name": "stdout"
        }
      ]
    },
    {
      "cell_type": "code",
      "metadata": {
        "colab": {
          "base_uri": "https://localhost:8080/"
        },
        "id": "JEry2gbGHNOE",
        "outputId": "cdd4d56b-bd41-4265-c985-c6f7e237757f"
      },
      "source": [
        "x=5 \n",
        "x=\"John\" \n",
        "print(x)"
      ],
      "execution_count": 10,
      "outputs": [
        {
          "output_type": "stream",
          "text": [
            "John\n"
          ],
          "name": "stdout"
        }
      ]
    },
    {
      "cell_type": "code",
      "metadata": {
        "id": "xp-uCXPFHXOs"
      },
      "source": [
        "x=int(.333) "
      ],
      "execution_count": 11,
      "outputs": []
    },
    {
      "cell_type": "code",
      "metadata": {
        "colab": {
          "base_uri": "https://localhost:8080/"
        },
        "id": "5AeryfJRHdI0",
        "outputId": "888603cb-31fc-434b-bc51-4f321c7680e1"
      },
      "source": [
        "x"
      ],
      "execution_count": 12,
      "outputs": [
        {
          "output_type": "execute_result",
          "data": {
            "text/plain": [
              "0"
            ]
          },
          "metadata": {
            "tags": []
          },
          "execution_count": 12
        }
      ]
    },
    {
      "cell_type": "code",
      "metadata": {
        "colab": {
          "base_uri": "https://localhost:8080/"
        },
        "id": "ZDy75yumHfYk",
        "outputId": "f2cacde4-b8b9-449c-eff1-bf83e065745d"
      },
      "source": [
        "x,y,z=\"Orange\",5,3.141\n",
        "print(x)\n",
        "print(y) \n",
        "print(z)"
      ],
      "execution_count": 13,
      "outputs": [
        {
          "output_type": "stream",
          "text": [
            "Orange\n",
            "5\n",
            "3.141\n"
          ],
          "name": "stdout"
        }
      ]
    },
    {
      "cell_type": "code",
      "metadata": {
        "colab": {
          "base_uri": "https://localhost:8080/"
        },
        "id": "8Uk1o4qHIxoo",
        "outputId": "e5f43a13-17d5-45ff-8ab9-d35e32f2e38a"
      },
      "source": [
        "print(x,y)"
      ],
      "execution_count": 14,
      "outputs": [
        {
          "output_type": "stream",
          "text": [
            "Orange 5\n"
          ],
          "name": "stdout"
        }
      ]
    },
    {
      "cell_type": "code",
      "metadata": {
        "colab": {
          "base_uri": "https://localhost:8080/"
        },
        "id": "VUlMXLJkJHm4",
        "outputId": "3c3c92b4-7f6f-461d-9015-5a2fece77778"
      },
      "source": [
        "x=6 \n",
        "def func(): \n",
        "  global z\n",
        "  y=x+1 \n",
        "  print(y)  \n",
        "func()\n",
        "print(x)"
      ],
      "execution_count": 21,
      "outputs": [
        {
          "output_type": "stream",
          "text": [
            "7\n",
            "6\n"
          ],
          "name": "stdout"
        }
      ]
    },
    {
      "cell_type": "markdown",
      "metadata": {
        "id": "LUByTClwNCGI"
      },
      "source": [
        "#EXERCISE1\n",
        "\n",
        "\n"
      ]
    },
    {
      "cell_type": "code",
      "metadata": {
        "colab": {
          "base_uri": "https://localhost:8080/",
          "height": 35
        },
        "id": "-OD0OJ8oKw9E",
        "outputId": "9f8949b6-b97a-4739-e0b2-afb2ec3292da"
      },
      "source": [
        "carname=\"Volvo\" \n",
        "carname"
      ],
      "execution_count": 26,
      "outputs": [
        {
          "output_type": "execute_result",
          "data": {
            "application/vnd.google.colaboratory.intrinsic+json": {
              "type": "string"
            },
            "text/plain": [
              "'Volvo'"
            ]
          },
          "metadata": {
            "tags": []
          },
          "execution_count": 26
        }
      ]
    },
    {
      "cell_type": "markdown",
      "metadata": {
        "id": "L7qHGCPhNjl4"
      },
      "source": [
        "#EXERCISE2"
      ]
    },
    {
      "cell_type": "code",
      "metadata": {
        "colab": {
          "base_uri": "https://localhost:8080/"
        },
        "id": "pKyttDHHMYsI",
        "outputId": "378685d7-cd2e-49d1-f85f-6e8fce867b72"
      },
      "source": [
        "x=50 \n",
        "print(type(x))\n",
        "x"
      ],
      "execution_count": 30,
      "outputs": [
        {
          "output_type": "stream",
          "text": [
            "<class 'int'>\n"
          ],
          "name": "stdout"
        },
        {
          "output_type": "execute_result",
          "data": {
            "text/plain": [
              "50"
            ]
          },
          "metadata": {
            "tags": []
          },
          "execution_count": 30
        }
      ]
    },
    {
      "cell_type": "markdown",
      "metadata": {
        "id": "9kIPHOXwOaOw"
      },
      "source": [
        "EXERCISE3"
      ]
    },
    {
      "cell_type": "code",
      "metadata": {
        "colab": {
          "base_uri": "https://localhost:8080/"
        },
        "id": "wX_1Z0LLMd48",
        "outputId": "27259935-6f54-40cd-8376-ee3edd70fcc2"
      },
      "source": [
        "x,y=5,10 \n",
        "print(x+y) "
      ],
      "execution_count": 33,
      "outputs": [
        {
          "output_type": "stream",
          "text": [
            "15\n"
          ],
          "name": "stdout"
        }
      ]
    },
    {
      "cell_type": "markdown",
      "metadata": {
        "id": "_BuM8hVbO43s"
      },
      "source": [
        "EXERCISE4"
      ]
    },
    {
      "cell_type": "code",
      "metadata": {
        "colab": {
          "base_uri": "https://localhost:8080/"
        },
        "id": "6MIvNdeqOjuk",
        "outputId": "52626dff-bb3f-42c5-f784-31a3ff2f4738"
      },
      "source": [
        "x,y=11,17\n",
        "z=x+y \n",
        "print(z)"
      ],
      "execution_count": 36,
      "outputs": [
        {
          "output_type": "stream",
          "text": [
            "28\n"
          ],
          "name": "stdout"
        }
      ]
    },
    {
      "cell_type": "code",
      "metadata": {
        "colab": {
          "base_uri": "https://localhost:8080/",
          "height": 132
        },
        "id": "cjmPCiErQ8-Y",
        "outputId": "2492d93a-b7f9-4ae6-b1fd-397c66b058cd"
      },
      "source": [
        "#!/bin/python3\n",
        "\n",
        "import math\n",
        "import os\n",
        "import random\n",
        "import re\n",
        "import sys \n",
        "n=24\n",
        "for n in range(1,100): \n",
        "   if n%2 != 0: \n",
        "     print(\"Weird\")  \n",
        "   break\n",
        "   if n%2 ==0:\n",
        "     for n in range(2,5): \n",
        "        print(\"Not Weird\") \n",
        "   break\n",
        "     for n in range(6,20):\n",
        "        print(\"Weird\") \n",
        "   break \n",
        "     for n in range(20,100): \n",
        "        print(\"Not Weird\") \n",
        "   break\n",
        "\n",
        "\n",
        "\n",
        " \n"
      ],
      "execution_count": 47,
      "outputs": [
        {
          "output_type": "error",
          "ename": "IndentationError",
          "evalue": "ignored",
          "traceback": [
            "\u001b[0;36m  File \u001b[0;32m\"<ipython-input-47-ed3f5549ed76>\"\u001b[0;36m, line \u001b[0;32m17\u001b[0m\n\u001b[0;31m    for n in range(6,20):\u001b[0m\n\u001b[0m    ^\u001b[0m\n\u001b[0;31mIndentationError\u001b[0m\u001b[0;31m:\u001b[0m unexpected indent\n"
          ]
        }
      ]
    },
    {
      "cell_type": "code",
      "metadata": {
        "colab": {
          "base_uri": "https://localhost:8080/"
        },
        "id": "70wXkqzzbKBs",
        "outputId": "37b4e89f-7d42-4070-9a66-786c2aac0673"
      },
      "source": [
        "x1 =\"Hello World\" #String\n",
        "x2 =5 #integer \n",
        "x3 =5,6 #float\n",
        "x4 =[\"apple\",\"Banana\",\"cherry\"] #float \n",
        "x5=(\"apple\",\"Banana\",\"cherry\") #tuple\n",
        "x6=range(6) #range\n",
        "x7={\"name\" :\"Johnwick\",\"age\" : 36} #dictionary\n",
        "x8={\"apple\",\"Banana\",\"cherry\"} #set\n",
        "x9=True #bool \n",
        "print(type(x1))\n",
        "print(type(x2))\n",
        "print(type(x3))\n",
        "print(type(x4))\n",
        "print(type(x5))\n",
        "print(type(x6))\n",
        "print(type(x7))\n",
        "print(type(x8))\n",
        "print(type(x9))"
      ],
      "execution_count": 48,
      "outputs": [
        {
          "output_type": "stream",
          "text": [
            "<class 'str'>\n",
            "<class 'int'>\n",
            "<class 'tuple'>\n",
            "<class 'list'>\n",
            "<class 'tuple'>\n",
            "<class 'range'>\n",
            "<class 'dict'>\n",
            "<class 'set'>\n",
            "<class 'bool'>\n"
          ],
          "name": "stdout"
        }
      ]
    },
    {
      "cell_type": "code",
      "metadata": {
        "colab": {
          "base_uri": "https://localhost:8080/"
        },
        "id": "w2uIkfuKhVY0",
        "outputId": "1d72919d-d45c-4ae1-fcad-2d5cde5eac5e"
      },
      "source": [
        "x= range(1,5,2)\n",
        "print(list(x))"
      ],
      "execution_count": 49,
      "outputs": [
        {
          "output_type": "stream",
          "text": [
            "[1, 3]\n"
          ],
          "name": "stdout"
        }
      ]
    },
    {
      "cell_type": "code",
      "metadata": {
        "colab": {
          "base_uri": "https://localhost:8080/"
        },
        "id": "o05zoxdHhb4c",
        "outputId": "95cf7ca8-4e71-4532-d235-3ecc32757a77"
      },
      "source": [
        "x={1,2,3,2}\n",
        "print(x)"
      ],
      "execution_count": 50,
      "outputs": [
        {
          "output_type": "stream",
          "text": [
            "{1, 2, 3}\n"
          ],
          "name": "stdout"
        }
      ]
    },
    {
      "cell_type": "code",
      "metadata": {
        "colab": {
          "base_uri": "https://localhost:8080/"
        },
        "id": "ROF4_zh1iTcs",
        "outputId": "a759d902-c08e-445c-e8e8-abc8fdffe998"
      },
      "source": [
        "x=1 \n",
        "y=2.8\n",
        "z=1j \n",
        "a =float(x)\n",
        "b=int(y)\n",
        "c=complex(x) \n",
        "print(a)\n",
        "print(b)\n",
        "print(c)"
      ],
      "execution_count": 51,
      "outputs": [
        {
          "output_type": "stream",
          "text": [
            "1.0\n",
            "2\n",
            "(1+0j)\n"
          ],
          "name": "stdout"
        }
      ]
    },
    {
      "cell_type": "code",
      "metadata": {
        "colab": {
          "base_uri": "https://localhost:8080/"
        },
        "id": "OojnDLSRj3J8",
        "outputId": "9641cf6e-1649-4def-857d-590add5f80c9"
      },
      "source": [
        "x=int(1)\n",
        "y=int(2.8)\n",
        "z=int(\"3\")\n",
        "print(type(x))\n",
        "print(type(y))\n",
        "print(type(z))\n",
        "x=float(1)\n",
        "y=float(2.8)\n",
        "z=float(\"3\")\n",
        "w=float(\"4.2\") \n",
        "print(type(x))\n",
        "print(type(y))\n",
        "print(type(z))\n",
        "print(type(w))\n",
        "x=str(\"a1\")\n",
        "y=str(2)\n",
        "z=str(3.0)\n",
        "print(type(x))\n",
        "print(type(y))\n",
        "print(type(z))"
      ],
      "execution_count": 53,
      "outputs": [
        {
          "output_type": "stream",
          "text": [
            "<class 'int'>\n",
            "<class 'int'>\n",
            "<class 'int'>\n",
            "<class 'float'>\n",
            "<class 'float'>\n",
            "<class 'float'>\n",
            "<class 'float'>\n",
            "<class 'str'>\n",
            "<class 'str'>\n",
            "<class 'str'>\n"
          ],
          "name": "stdout"
        }
      ]
    },
    {
      "cell_type": "code",
      "metadata": {
        "colab": {
          "base_uri": "https://localhost:8080/"
        },
        "id": "AUeBehhumIWI",
        "outputId": "383c6bf3-ac70-4411-f81c-80526092f039"
      },
      "source": [
        "x=2 \n",
        "y=3\n",
        "x=str(x)\n",
        "y=str(y)\n",
        "print(\"x+y=\",x+y)"
      ],
      "execution_count": 56,
      "outputs": [
        {
          "output_type": "stream",
          "text": [
            "x+y= 23\n"
          ],
          "name": "stdout"
        }
      ]
    },
    {
      "cell_type": "code",
      "metadata": {
        "colab": {
          "base_uri": "https://localhost:8080/"
        },
        "id": "C3XPvB48mQn0",
        "outputId": "a52a25af-9056-4f04-fb7b-0f709d71c162"
      },
      "source": [
        "name=\"Dhoni\"\n",
        "print(name)\n",
        "print(type(name))"
      ],
      "execution_count": 57,
      "outputs": [
        {
          "output_type": "stream",
          "text": [
            "Dhoni\n",
            "<class 'str'>\n"
          ],
          "name": "stdout"
        }
      ]
    },
    {
      "cell_type": "code",
      "metadata": {
        "colab": {
          "base_uri": "https://localhost:8080/"
        },
        "id": "49zRQJympRz4",
        "outputId": "5679e043-5f7f-49ad-f8e5-91650d7da89c"
      },
      "source": [
        "print(name[0])"
      ],
      "execution_count": 58,
      "outputs": [
        {
          "output_type": "stream",
          "text": [
            "D\n"
          ],
          "name": "stdout"
        }
      ]
    },
    {
      "cell_type": "code",
      "metadata": {
        "colab": {
          "base_uri": "https://localhost:8080/"
        },
        "id": "jiZJUvl_p7-U",
        "outputId": "e727ea05-76d0-4bf0-bc89-9cceb3047d0b"
      },
      "source": [
        "print(len(name))"
      ],
      "execution_count": 59,
      "outputs": [
        {
          "output_type": "stream",
          "text": [
            "5\n"
          ],
          "name": "stdout"
        }
      ]
    },
    {
      "cell_type": "code",
      "metadata": {
        "colab": {
          "base_uri": "https://localhost:8080/"
        },
        "id": "PiK4tY6bqhR0",
        "outputId": "43b4d771-c7cd-4db0-cfa4-44e12ba45a3d"
      },
      "source": [
        "txt=\"I am single forever!!!\"\n",
        "print(\"single\" in txt)"
      ],
      "execution_count": 68,
      "outputs": [
        {
          "output_type": "stream",
          "text": [
            "True\n"
          ],
          "name": "stdout"
        }
      ]
    },
    {
      "cell_type": "code",
      "metadata": {
        "colab": {
          "base_uri": "https://localhost:8080/"
        },
        "id": "HM1NYuK4rISs",
        "outputId": "a4ee324a-0376-438d-f3fe-2a7f6bb5ef5d"
      },
      "source": [
        "print(txt[2:5])\n",
        "print(txt[:5])\n",
        "print(txt[5:])"
      ],
      "execution_count": 61,
      "outputs": [
        {
          "output_type": "stream",
          "text": [
            "am \n",
            "I am \n",
            "single forever!!!\n"
          ],
          "name": "stdout"
        }
      ]
    },
    {
      "cell_type": "code",
      "metadata": {
        "colab": {
          "base_uri": "https://localhost:8080/"
        },
        "id": "FcZ61glFsAWM",
        "outputId": "5aa7d98f-0614-4998-f134-9250121f6132"
      },
      "source": [
        "print(txt[-5:-2])"
      ],
      "execution_count": 62,
      "outputs": [
        {
          "output_type": "stream",
          "text": [
            "er!\n"
          ],
          "name": "stdout"
        }
      ]
    },
    {
      "cell_type": "code",
      "metadata": {
        "colab": {
          "base_uri": "https://localhost:8080/",
          "height": 35
        },
        "id": "eZlakRhbskW4",
        "outputId": "e5e46e58-894c-4d70-a2a8-379b081227ec"
      },
      "source": [
        "txt.upper()"
      ],
      "execution_count": 65,
      "outputs": [
        {
          "output_type": "execute_result",
          "data": {
            "application/vnd.google.colaboratory.intrinsic+json": {
              "type": "string"
            },
            "text/plain": [
              "'I AM SINGLE FOREVER!!!'"
            ]
          },
          "metadata": {
            "tags": []
          },
          "execution_count": 65
        }
      ]
    },
    {
      "cell_type": "code",
      "metadata": {
        "colab": {
          "base_uri": "https://localhost:8080/",
          "height": 35
        },
        "id": "dEtAZ-C-tk3A",
        "outputId": "67783df8-60ef-433d-f036-69ef35ea3ab6"
      },
      "source": [
        "txt.lower()"
      ],
      "execution_count": 66,
      "outputs": [
        {
          "output_type": "execute_result",
          "data": {
            "application/vnd.google.colaboratory.intrinsic+json": {
              "type": "string"
            },
            "text/plain": [
              "'i am single forever!!!'"
            ]
          },
          "metadata": {
            "tags": []
          },
          "execution_count": 66
        }
      ]
    },
    {
      "cell_type": "code",
      "metadata": {
        "id": "qqQlEGjguSXg"
      },
      "source": [
        "a=\"Hi\""
      ],
      "execution_count": 71,
      "outputs": []
    },
    {
      "cell_type": "code",
      "metadata": {
        "colab": {
          "base_uri": "https://localhost:8080/",
          "height": 35
        },
        "id": "i9y8s9zptsho",
        "outputId": "92c9b9aa-f014-4eae-c0ed-3bdc6890c78a"
      },
      "source": [
        "a + txt"
      ],
      "execution_count": 72,
      "outputs": [
        {
          "output_type": "execute_result",
          "data": {
            "application/vnd.google.colaboratory.intrinsic+json": {
              "type": "string"
            },
            "text/plain": [
              "'HiI am single forever!!!'"
            ]
          },
          "metadata": {
            "tags": []
          },
          "execution_count": 72
        }
      ]
    },
    {
      "cell_type": "code",
      "metadata": {
        "colab": {
          "base_uri": "https://localhost:8080/"
        },
        "id": "p4VovB7ZuWP8",
        "outputId": "266f5817-7306-47e9-a26e-fc1a3247b507"
      },
      "source": [
        "age=36\n",
        "txt=\"Hi there,{}\" \n",
        "print(txt.format(age))"
      ],
      "execution_count": 75,
      "outputs": [
        {
          "output_type": "stream",
          "text": [
            "Hi there,36\n"
          ],
          "name": "stdout"
        }
      ]
    },
    {
      "cell_type": "code",
      "metadata": {
        "colab": {
          "base_uri": "https://localhost:8080/"
        },
        "id": "nBBJ0aqMu4KQ",
        "outputId": "d2733752-aff1-4241-d440-6a934dd5b576"
      },
      "source": [
        "print(\"Hello\\nworld!\")"
      ],
      "execution_count": 77,
      "outputs": [
        {
          "output_type": "stream",
          "text": [
            "Hello\n",
            "world!\n"
          ],
          "name": "stdout"
        }
      ]
    },
    {
      "cell_type": "code",
      "metadata": {
        "colab": {
          "base_uri": "https://localhost:8080/"
        },
        "id": "3M4aWCK4v2zo",
        "outputId": "96327075-acbf-4cfd-943e-e16ccf91327a"
      },
      "source": [
        "txt =\"chinmaya\"\n",
        "print(txt.capitalize())"
      ],
      "execution_count": 78,
      "outputs": [
        {
          "output_type": "stream",
          "text": [
            "Chinmaya\n"
          ],
          "name": "stdout"
        }
      ]
    },
    {
      "cell_type": "code",
      "metadata": {
        "colab": {
          "base_uri": "https://localhost:8080/"
        },
        "id": "Kq0FNy4vwhlI",
        "outputId": "7592c1e5-a6f9-4e73-ff9d-0abbc34eec5b"
      },
      "source": [
        "txt.isupper()"
      ],
      "execution_count": 79,
      "outputs": [
        {
          "output_type": "execute_result",
          "data": {
            "text/plain": [
              "False"
            ]
          },
          "metadata": {
            "tags": []
          },
          "execution_count": 79
        }
      ]
    },
    {
      "cell_type": "code",
      "metadata": {
        "colab": {
          "base_uri": "https://localhost:8080/"
        },
        "id": "fSHfwGqixC1Q",
        "outputId": "13e85bb5-af25-480f-db46-c98bc5bebd8b"
      },
      "source": [
        "txt.isalpha()"
      ],
      "execution_count": 80,
      "outputs": [
        {
          "output_type": "execute_result",
          "data": {
            "text/plain": [
              "True"
            ]
          },
          "metadata": {
            "tags": []
          },
          "execution_count": 80
        }
      ]
    },
    {
      "cell_type": "code",
      "metadata": {
        "colab": {
          "base_uri": "https://localhost:8080/"
        },
        "id": "bXq4WTJXxMZw",
        "outputId": "395959ab-fdc7-4609-bb40-41dc496dd4bf"
      },
      "source": [
        "txt.isdigit()"
      ],
      "execution_count": 81,
      "outputs": [
        {
          "output_type": "execute_result",
          "data": {
            "text/plain": [
              "False"
            ]
          },
          "metadata": {
            "tags": []
          },
          "execution_count": 81
        }
      ]
    },
    {
      "cell_type": "code",
      "metadata": {
        "colab": {
          "base_uri": "https://localhost:8080/"
        },
        "id": "UVQxK4xgxPSI",
        "outputId": "eafb89f5-383c-4eda-e2b8-d0d8a111270c"
      },
      "source": [
        "variable=input(\"Enter something\")\n",
        "print(len(variable))\n",
        "print(variable[:4])\n",
        "print(variable.upper())\n",
        "a=input(\"Enter another string\")\n",
        "print(variable+a)\n",
        "variable=variable+\" {}\"\n",
        "print(variable.format(a)) \n",
        "variable.isdigit()"
      ],
      "execution_count": 90,
      "outputs": [
        {
          "output_type": "stream",
          "text": [
            "Enter somethingalvas\n",
            "5\n",
            "alva\n",
            "ALVAS\n",
            "Enter another string    college\n",
            "alvas    college\n",
            "alvas     college\n"
          ],
          "name": "stdout"
        },
        {
          "output_type": "execute_result",
          "data": {
            "text/plain": [
              "False"
            ]
          },
          "metadata": {
            "tags": []
          },
          "execution_count": 90
        }
      ]
    },
    {
      "cell_type": "code",
      "metadata": {
        "colab": {
          "base_uri": "https://localhost:8080/"
        },
        "id": "H4NM9DbkBx1A",
        "outputId": "2efdff0e-0757-4faf-a12a-e31f94de1504"
      },
      "source": [
        "print(10>9)\n",
        "print(10==9)"
      ],
      "execution_count": 92,
      "outputs": [
        {
          "output_type": "stream",
          "text": [
            "True\n",
            "False\n"
          ],
          "name": "stdout"
        }
      ]
    },
    {
      "cell_type": "code",
      "metadata": {
        "id": "no9GOulnF0qo"
      },
      "source": [
        "x=5\n",
        "x+=3"
      ],
      "execution_count": 94,
      "outputs": []
    },
    {
      "cell_type": "code",
      "metadata": {
        "colab": {
          "base_uri": "https://localhost:8080/"
        },
        "id": "b68NSodZHAU0",
        "outputId": "5a053f8d-f78a-4925-9c00-37e467b06748"
      },
      "source": [
        "x"
      ],
      "execution_count": 95,
      "outputs": [
        {
          "output_type": "execute_result",
          "data": {
            "text/plain": [
              "8"
            ]
          },
          "metadata": {
            "tags": []
          },
          "execution_count": 95
        }
      ]
    },
    {
      "cell_type": "code",
      "metadata": {
        "colab": {
          "base_uri": "https://localhost:8080/"
        },
        "id": "Zxu0ei9dHHpk",
        "outputId": "14a88ebe-e1b2-440b-fd5d-b35861dc45c9"
      },
      "source": [
        "x*=3 \n",
        "x"
      ],
      "execution_count": 96,
      "outputs": [
        {
          "output_type": "execute_result",
          "data": {
            "text/plain": [
              "24"
            ]
          },
          "metadata": {
            "tags": []
          },
          "execution_count": 96
        }
      ]
    },
    {
      "cell_type": "code",
      "metadata": {
        "colab": {
          "base_uri": "https://localhost:8080/"
        },
        "id": "QfwHQo7wHNxw",
        "outputId": "9a06ec9a-ceb6-4552-9b0a-81ee8794b063"
      },
      "source": [
        "x=3\n",
        "y=5\n",
        "print(x==y)"
      ],
      "execution_count": 98,
      "outputs": [
        {
          "output_type": "stream",
          "text": [
            "False\n"
          ],
          "name": "stdout"
        }
      ]
    },
    {
      "cell_type": "code",
      "metadata": {
        "colab": {
          "base_uri": "https://localhost:8080/"
        },
        "id": "Ld1YppFOHqEs",
        "outputId": "53d906bf-ad5c-4a9a-8529-c81f84a1885a"
      },
      "source": [
        "print(x!=y)\n",
        "print(x>y)\n",
        "print(x<y)"
      ],
      "execution_count": 99,
      "outputs": [
        {
          "output_type": "stream",
          "text": [
            "True\n",
            "False\n",
            "True\n"
          ],
          "name": "stdout"
        }
      ]
    },
    {
      "cell_type": "code",
      "metadata": {
        "colab": {
          "base_uri": "https://localhost:8080/"
        },
        "id": "OLgwVdSJIAUI",
        "outputId": "62263aaf-b4b1-4234-e01a-9741cf523547"
      },
      "source": [
        "print(3<0 and 3<8)"
      ],
      "execution_count": 100,
      "outputs": [
        {
          "output_type": "stream",
          "text": [
            "False\n"
          ],
          "name": "stdout"
        }
      ]
    },
    {
      "cell_type": "code",
      "metadata": {
        "colab": {
          "base_uri": "https://localhost:8080/"
        },
        "id": "fSsFmJ4lJM5s",
        "outputId": "ea968959-e7b5-454c-f07f-585ca0c73f29"
      },
      "source": [
        "print(3<0 or 3<8)"
      ],
      "execution_count": 101,
      "outputs": [
        {
          "output_type": "stream",
          "text": [
            "True\n"
          ],
          "name": "stdout"
        }
      ]
    },
    {
      "cell_type": "code",
      "metadata": {
        "colab": {
          "base_uri": "https://localhost:8080/"
        },
        "id": "qRo4emT9JQ1Q",
        "outputId": "544b4c14-2637-4fd4-ed8e-ebbcd6c4edc5"
      },
      "source": [
        "x=int(input(\"Enter the first input\"))\n",
        "y=int(input((\"Enter the second input\")))\n",
        "z=x+y\n",
        "w=x*y\n",
        "v=x/y\n",
        "u=x%y\n",
        "a=x-y\n",
        "print(z)\n",
        "print(w)\n",
        "print(v)\n",
        "print(u)\n",
        "print(a)"
      ],
      "execution_count": 110,
      "outputs": [
        {
          "output_type": "stream",
          "text": [
            "Enter the first input1\n",
            "Enter the second input2\n",
            "3\n",
            "2\n",
            "0.5\n",
            "1\n",
            "-1\n"
          ],
          "name": "stdout"
        }
      ]
    },
    {
      "cell_type": "code",
      "metadata": {
        "colab": {
          "base_uri": "https://localhost:8080/"
        },
        "id": "CIddbbRoKF6I",
        "outputId": "5df59a60-629c-416c-d609-0f0133b94251"
      },
      "source": [
        "thislist =[\"abhishek\",\"chinmaya\",\"akhilesh\"]\n",
        "print(thislist)"
      ],
      "execution_count": 111,
      "outputs": [
        {
          "output_type": "stream",
          "text": [
            "['abhishek', 'chinmaya', 'akhilesh']\n"
          ],
          "name": "stdout"
        }
      ]
    },
    {
      "cell_type": "code",
      "metadata": {
        "colab": {
          "base_uri": "https://localhost:8080/"
        },
        "id": "LtGVnrHtQE5E",
        "outputId": "3f728042-0f26-4762-a519-99deb96c9eba"
      },
      "source": [
        "len(thislist)"
      ],
      "execution_count": 112,
      "outputs": [
        {
          "output_type": "execute_result",
          "data": {
            "text/plain": [
              "3"
            ]
          },
          "metadata": {
            "tags": []
          },
          "execution_count": 112
        }
      ]
    },
    {
      "cell_type": "code",
      "metadata": {
        "colab": {
          "base_uri": "https://localhost:8080/"
        },
        "id": "PdTgupx3QWl4",
        "outputId": "f9a4d6aa-9812-448d-8dad-6747198e6bc4"
      },
      "source": [
        "L=list((\"cse\",\"ece\",\"ise\"))\n",
        "print(L)"
      ],
      "execution_count": 113,
      "outputs": [
        {
          "output_type": "stream",
          "text": [
            "['cse', 'ece', 'ise']\n"
          ],
          "name": "stdout"
        }
      ]
    },
    {
      "cell_type": "code",
      "metadata": {
        "colab": {
          "base_uri": "https://localhost:8080/",
          "height": 35
        },
        "id": "sHxBlW_yQwUw",
        "outputId": "2ba45cc0-ae6e-4ed0-d3dd-7cbdee72b2e7"
      },
      "source": [
        "L[1]"
      ],
      "execution_count": 114,
      "outputs": [
        {
          "output_type": "execute_result",
          "data": {
            "application/vnd.google.colaboratory.intrinsic+json": {
              "type": "string"
            },
            "text/plain": [
              "'ece'"
            ]
          },
          "metadata": {
            "tags": []
          },
          "execution_count": 114
        }
      ]
    },
    {
      "cell_type": "code",
      "metadata": {
        "id": "huxXQeATRKco"
      },
      "source": [
        "L=['cse','ece','ise','mech','civil','AI']"
      ],
      "execution_count": 120,
      "outputs": []
    },
    {
      "cell_type": "code",
      "metadata": {
        "colab": {
          "base_uri": "https://localhost:8080/"
        },
        "id": "WFsS6FWERqdE",
        "outputId": "f35a699e-773d-4d49-c0f6-c06ea43f8c61"
      },
      "source": [
        "L[2:5]"
      ],
      "execution_count": 121,
      "outputs": [
        {
          "output_type": "execute_result",
          "data": {
            "text/plain": [
              "['ise', 'mech', 'civil']"
            ]
          },
          "metadata": {
            "tags": []
          },
          "execution_count": 121
        }
      ]
    },
    {
      "cell_type": "code",
      "metadata": {
        "colab": {
          "base_uri": "https://localhost:8080/"
        },
        "id": "ayHeNRB3Rt_o",
        "outputId": "1c3bb19d-d8a0-478e-b3eb-844de6533412"
      },
      "source": [
        "L[4:]"
      ],
      "execution_count": 122,
      "outputs": [
        {
          "output_type": "execute_result",
          "data": {
            "text/plain": [
              "['civil', 'AI']"
            ]
          },
          "metadata": {
            "tags": []
          },
          "execution_count": 122
        }
      ]
    },
    {
      "cell_type": "code",
      "metadata": {
        "colab": {
          "base_uri": "https://localhost:8080/"
        },
        "id": "a8XDhqjfSTJw",
        "outputId": "fef205f4-c6cf-4fea-af36-234a2adf86ac"
      },
      "source": [
        "L[:3]"
      ],
      "execution_count": 123,
      "outputs": [
        {
          "output_type": "execute_result",
          "data": {
            "text/plain": [
              "['cse', 'ece', 'ise']"
            ]
          },
          "metadata": {
            "tags": []
          },
          "execution_count": 123
        }
      ]
    },
    {
      "cell_type": "code",
      "metadata": {
        "colab": {
          "base_uri": "https://localhost:8080/"
        },
        "id": "RaZ5f6aTSV6U",
        "outputId": "73494f83-289f-4c92-d1f5-3592597294cc"
      },
      "source": [
        "L=L[:-3]\n",
        "L[-1]=\"ML\"\n",
        "print(L)"
      ],
      "execution_count": 124,
      "outputs": [
        {
          "output_type": "stream",
          "text": [
            "['cse', 'ece', 'ML']\n"
          ],
          "name": "stdout"
        }
      ]
    },
    {
      "cell_type": "code",
      "metadata": {
        "colab": {
          "base_uri": "https://localhost:8080/"
        },
        "id": "aX8OskPGS45Y",
        "outputId": "e04bfb7e-d374-4990-f3ce-69ee5fb8e28b"
      },
      "source": [
        "thislist =[\"apple\",\"banana\",\"cherry\"]\n",
        "print(len(thislist))\n",
        "thislist.append(\"orange\")\n",
        "print(thislist)\n",
        "print(len(thislist))"
      ],
      "execution_count": 125,
      "outputs": [
        {
          "output_type": "stream",
          "text": [
            "3\n",
            "['apple', 'banana', 'cherry', 'orange']\n",
            "4\n"
          ],
          "name": "stdout"
        }
      ]
    },
    {
      "cell_type": "code",
      "metadata": {
        "colab": {
          "base_uri": "https://localhost:8080/"
        },
        "id": "2CLAEtVjTcUk",
        "outputId": "76974ac0-3be9-49fb-a921-5a927763e747"
      },
      "source": [
        "tropical=[\"mango\",\"pineapple\",\"papaya\"]\n",
        "thislist.extend(tropical) \n",
        "print(thislist)"
      ],
      "execution_count": 126,
      "outputs": [
        {
          "output_type": "stream",
          "text": [
            "['apple', 'banana', 'cherry', 'orange', 'mango', 'pineapple', 'papaya']\n"
          ],
          "name": "stdout"
        }
      ]
    },
    {
      "cell_type": "code",
      "metadata": {
        "colab": {
          "base_uri": "https://localhost:8080/"
        },
        "id": "Q2evNQx-UJPk",
        "outputId": "0d6f68a1-c1ff-49c5-8682-d2f0b01e8590"
      },
      "source": [
        "tropical=[\"mango\",\"pineapple\",\"papaya\"]\n",
        "thislist =[\"apple\",\"banana\",\"cherry\"]\n",
        "newlist =thislist+tropical;\n",
        "print(newlist)"
      ],
      "execution_count": 127,
      "outputs": [
        {
          "output_type": "stream",
          "text": [
            "['apple', 'banana', 'cherry', 'mango', 'pineapple', 'papaya']\n"
          ],
          "name": "stdout"
        }
      ]
    },
    {
      "cell_type": "code",
      "metadata": {
        "colab": {
          "base_uri": "https://localhost:8080/",
          "height": 35
        },
        "id": "hKYvC2SrU2xo",
        "outputId": "ba7bb27b-6123-43ee-8765-a7f7cd273eb5"
      },
      "source": [
        "thislist.pop(1)"
      ],
      "execution_count": 128,
      "outputs": [
        {
          "output_type": "execute_result",
          "data": {
            "application/vnd.google.colaboratory.intrinsic+json": {
              "type": "string"
            },
            "text/plain": [
              "'banana'"
            ]
          },
          "metadata": {
            "tags": []
          },
          "execution_count": 128
        }
      ]
    },
    {
      "cell_type": "code",
      "metadata": {
        "colab": {
          "base_uri": "https://localhost:8080/"
        },
        "id": "T2IcWjmpVZTA",
        "outputId": "974ad430-df1e-4e0b-d465-bf413256f60f"
      },
      "source": [
        "print(thislist)"
      ],
      "execution_count": 129,
      "outputs": [
        {
          "output_type": "stream",
          "text": [
            "['apple', 'cherry']\n"
          ],
          "name": "stdout"
        }
      ]
    },
    {
      "cell_type": "code",
      "metadata": {
        "id": "UFR6TMRwVcLY"
      },
      "source": [
        "thislist.remove(\"cherry\")"
      ],
      "execution_count": 130,
      "outputs": []
    },
    {
      "cell_type": "code",
      "metadata": {
        "colab": {
          "base_uri": "https://localhost:8080/"
        },
        "id": "B1AieP2GVlYc",
        "outputId": "37e116bc-e987-412e-9b45-1a700eb82a78"
      },
      "source": [
        "thislist"
      ],
      "execution_count": 131,
      "outputs": [
        {
          "output_type": "execute_result",
          "data": {
            "text/plain": [
              "['apple']"
            ]
          },
          "metadata": {
            "tags": []
          },
          "execution_count": 131
        }
      ]
    },
    {
      "cell_type": "code",
      "metadata": {
        "colab": {
          "base_uri": "https://localhost:8080/"
        },
        "id": "UoYDoYraVnCs",
        "outputId": "d53f62d2-fbbf-468d-fb12-662c52e94106"
      },
      "source": [
        "thislist=[100,50,65,82,23]\n",
        "thislist.sort()\n",
        "print(thislist)"
      ],
      "execution_count": 132,
      "outputs": [
        {
          "output_type": "stream",
          "text": [
            "[23, 50, 65, 82, 100]\n"
          ],
          "name": "stdout"
        }
      ]
    },
    {
      "cell_type": "code",
      "metadata": {
        "colab": {
          "base_uri": "https://localhost:8080/"
        },
        "id": "M35xDAMOWX60",
        "outputId": "cee9cd06-7bda-4e0c-e70e-a0d5973b0d64"
      },
      "source": [
        "thislist.sort(reverse=True)\n",
        "print(thislist)"
      ],
      "execution_count": 134,
      "outputs": [
        {
          "output_type": "stream",
          "text": [
            "[100, 82, 65, 50, 23]\n"
          ],
          "name": "stdout"
        }
      ]
    },
    {
      "cell_type": "code",
      "metadata": {
        "colab": {
          "base_uri": "https://localhost:8080/"
        },
        "id": "3vPcTXRKW_qk",
        "outputId": "4d6a6890-b272-4355-e2e5-320e81f51a3b"
      },
      "source": [
        "thislist[::-1]"
      ],
      "execution_count": 135,
      "outputs": [
        {
          "output_type": "execute_result",
          "data": {
            "text/plain": [
              "[23, 50, 65, 82, 100]"
            ]
          },
          "metadata": {
            "tags": []
          },
          "execution_count": 135
        }
      ]
    },
    {
      "cell_type": "code",
      "metadata": {
        "colab": {
          "base_uri": "https://localhost:8080/"
        },
        "id": "naZQHFETXoJM",
        "outputId": "4a743bd1-5eae-4574-fb5f-cd2a89b3e999"
      },
      "source": [
        "thislist[::-2] \n",
        "print(thislist)"
      ],
      "execution_count": 138,
      "outputs": [
        {
          "output_type": "stream",
          "text": [
            "[100, 82, 65, 50, 23]\n"
          ],
          "name": "stdout"
        }
      ]
    },
    {
      "cell_type": "code",
      "metadata": {
        "colab": {
          "base_uri": "https://localhost:8080/"
        },
        "id": "yAbCM40aXxvQ",
        "outputId": "cfd20370-07f6-48ec-f74c-e7d780143e07"
      },
      "source": [
        "thislist"
      ],
      "execution_count": 139,
      "outputs": [
        {
          "output_type": "execute_result",
          "data": {
            "text/plain": [
              "[100, 82, 65, 50, 23]"
            ]
          },
          "metadata": {
            "tags": []
          },
          "execution_count": 139
        }
      ]
    },
    {
      "cell_type": "code",
      "metadata": {
        "colab": {
          "base_uri": "https://localhost:8080/"
        },
        "id": "y0HnLsfuX1Ic",
        "outputId": "b04c26ae-a816-4566-e7ff-7610d29c8e90"
      },
      "source": [
        "namelist= ['harsh','pratik','bob','dhruv']\n",
        "print (namelist[1])"
      ],
      "execution_count": 141,
      "outputs": [
        {
          "output_type": "stream",
          "text": [
            "pratik\n"
          ],
          "name": "stdout"
        }
      ]
    },
    {
      "cell_type": "code",
      "metadata": {
        "id": "2REFaswKYMX8"
      },
      "source": [
        "animal=['Cat','Dog','Fish','Goat']\n",
        "age=[1,2,2,6] \n",
        "animal.extend(age)"
      ],
      "execution_count": 158,
      "outputs": []
    },
    {
      "cell_type": "code",
      "metadata": {
        "colab": {
          "base_uri": "https://localhost:8080/"
        },
        "id": "LV0hsvcpY_vc",
        "outputId": "77f78241-2406-4a5d-e837-fd9307a49ae1"
      },
      "source": [
        "animal\n"
      ],
      "execution_count": 159,
      "outputs": [
        {
          "output_type": "execute_result",
          "data": {
            "text/plain": [
              "['Cat', 'Dog', 'Fish', 'Goat', 1, 2, 2, 6]"
            ]
          },
          "metadata": {
            "tags": []
          },
          "execution_count": 159
        }
      ]
    },
    {
      "cell_type": "code",
      "metadata": {
        "colab": {
          "base_uri": "https://localhost:8080/"
        },
        "id": "7bKgbuL5ZPtU",
        "outputId": "61ed8f45-c0c6-44a2-e5b5-5c0db87d9f95"
      },
      "source": [
        "animal.remove(1)\n",
        "animal.remove(2)\n",
        "animal.remove(2)\n",
        "animal.remove(6)\n",
        "animal=animal+age \n",
        "animal"
      ],
      "execution_count": 161,
      "outputs": [
        {
          "output_type": "execute_result",
          "data": {
            "text/plain": [
              "['Cat', 'Dog', 'Fish', 'Goat', 1, 2, 2, 6]"
            ]
          },
          "metadata": {
            "tags": []
          },
          "execution_count": 161
        }
      ]
    },
    {
      "cell_type": "code",
      "metadata": {
        "colab": {
          "base_uri": "https://localhost:8080/"
        },
        "id": "_YGg7h_0Zc9w",
        "outputId": "d374443a-26da-48b1-cc39-51f2c2a44b6b"
      },
      "source": [
        "age=[1,2,3,6]\n",
        "age.append(9)\n",
        "\n",
        "print(age.pop(2))\n",
        "print(age.count(\"3\"))\n",
        "age"
      ],
      "execution_count": 154,
      "outputs": [
        {
          "output_type": "stream",
          "text": [
            "3\n",
            "0\n"
          ],
          "name": "stdout"
        },
        {
          "output_type": "execute_result",
          "data": {
            "text/plain": [
              "[1, 2, 6, 9]"
            ]
          },
          "metadata": {
            "tags": []
          },
          "execution_count": 154
        }
      ]
    },
    {
      "cell_type": "code",
      "metadata": {
        "colab": {
          "base_uri": "https://localhost:8080/"
        },
        "id": "WBXGlGL1Z_2k",
        "outputId": "89a6da20-4bd3-47ea-e150-b3d804c43f73"
      },
      "source": [
        "thistuple =(\"apple\",\"banana\",\"cherry\")\n",
        "print(thistuple)"
      ],
      "execution_count": 162,
      "outputs": [
        {
          "output_type": "stream",
          "text": [
            "('apple', 'banana', 'cherry')\n"
          ],
          "name": "stdout"
        }
      ]
    },
    {
      "cell_type": "code",
      "metadata": {
        "colab": {
          "base_uri": "https://localhost:8080/"
        },
        "id": "FBdPCJiScyXk",
        "outputId": "85879ec7-2b88-43ac-8c4d-fe26feea74c6"
      },
      "source": [
        "thistuple=(\"apple\",\"banana\",\"cherry\",\"apple\",\"cherry\")\n",
        "thistuple"
      ],
      "execution_count": 163,
      "outputs": [
        {
          "output_type": "execute_result",
          "data": {
            "text/plain": [
              "('apple', 'banana', 'cherry', 'apple', 'cherry')"
            ]
          },
          "metadata": {
            "tags": []
          },
          "execution_count": 163
        }
      ]
    },
    {
      "cell_type": "code",
      "metadata": {
        "colab": {
          "base_uri": "https://localhost:8080/"
        },
        "id": "npbsdQJrdH7Q",
        "outputId": "d0c087b8-1d08-4be8-9a65-c42004bf4ead"
      },
      "source": [
        "print(type(thistuple))"
      ],
      "execution_count": 164,
      "outputs": [
        {
          "output_type": "stream",
          "text": [
            "<class 'tuple'>\n"
          ],
          "name": "stdout"
        }
      ]
    },
    {
      "cell_type": "code",
      "metadata": {
        "colab": {
          "base_uri": "https://localhost:8080/"
        },
        "id": "Kt97dHdbdNB0",
        "outputId": "351c88da-1bf4-46f2-a74e-cc120a0ee152"
      },
      "source": [
        "print(thistuple[1])"
      ],
      "execution_count": 165,
      "outputs": [
        {
          "output_type": "stream",
          "text": [
            "banana\n"
          ],
          "name": "stdout"
        }
      ]
    },
    {
      "cell_type": "code",
      "metadata": {
        "colab": {
          "base_uri": "https://localhost:8080/"
        },
        "id": "U7FD7879dSt4",
        "outputId": "c60724c4-3780-496b-ae14-50b04a10afe3"
      },
      "source": [
        "x=(\"apple\",\"banana\",\"cherry\")\n",
        "y=list(x)\n",
        "y[1]=\"kiwi\"\n",
        "x=tuple(y)\n",
        "print(x)"
      ],
      "execution_count": 166,
      "outputs": [
        {
          "output_type": "stream",
          "text": [
            "('apple', 'kiwi', 'cherry')\n"
          ],
          "name": "stdout"
        }
      ]
    },
    {
      "cell_type": "code",
      "metadata": {
        "colab": {
          "base_uri": "https://localhost:8080/"
        },
        "id": "5IOoQ6-7eDX8",
        "outputId": "25fcc74c-d9e9-430d-b02d-e9bc9ecf0bfe"
      },
      "source": [
        "print(type(x))\n",
        "type(y)"
      ],
      "execution_count": 167,
      "outputs": [
        {
          "output_type": "stream",
          "text": [
            "<class 'tuple'>\n"
          ],
          "name": "stdout"
        },
        {
          "output_type": "execute_result",
          "data": {
            "text/plain": [
              "list"
            ]
          },
          "metadata": {
            "tags": []
          },
          "execution_count": 167
        }
      ]
    },
    {
      "cell_type": "code",
      "metadata": {
        "colab": {
          "base_uri": "https://localhost:8080/"
        },
        "id": "nVHta_5heXnQ",
        "outputId": "ecc3ce39-871b-4ce0-a5dd-08f43b0a035e"
      },
      "source": [
        "fruits=(\"apple\",\"banana\",\"cherry\")\n",
        "print(fruits[0])"
      ],
      "execution_count": 169,
      "outputs": [
        {
          "output_type": "stream",
          "text": [
            "apple\n"
          ],
          "name": "stdout"
        }
      ]
    },
    {
      "cell_type": "code",
      "metadata": {
        "colab": {
          "base_uri": "https://localhost:8080/"
        },
        "id": "cLv5jGYVeuwg",
        "outputId": "b7bde220-4632-4d11-c379-74481de6e6f2"
      },
      "source": [
        "fruits=list(fruits) \n",
        "fruits"
      ],
      "execution_count": 170,
      "outputs": [
        {
          "output_type": "execute_result",
          "data": {
            "text/plain": [
              "['apple', 'banana', 'cherry']"
            ]
          },
          "metadata": {
            "tags": []
          },
          "execution_count": 170
        }
      ]
    },
    {
      "cell_type": "code",
      "metadata": {
        "colab": {
          "base_uri": "https://localhost:8080/"
        },
        "id": "zSLPOfkqe5_Q",
        "outputId": "24327405-9eb7-4464-8159-63fcd2ba8849"
      },
      "source": [
        "type(fruits)"
      ],
      "execution_count": 171,
      "outputs": [
        {
          "output_type": "execute_result",
          "data": {
            "text/plain": [
              "list"
            ]
          },
          "metadata": {
            "tags": []
          },
          "execution_count": 171
        }
      ]
    },
    {
      "cell_type": "code",
      "metadata": {
        "colab": {
          "base_uri": "https://localhost:8080/"
        },
        "id": "KuQ1L9Rje_e0",
        "outputId": "430894d6-4ea9-4c85-d81a-013c11adda41"
      },
      "source": [
        "fruits.append(\"banana\") \n",
        "fruits"
      ],
      "execution_count": 172,
      "outputs": [
        {
          "output_type": "execute_result",
          "data": {
            "text/plain": [
              "['apple', 'banana', 'cherry', 'banana']"
            ]
          },
          "metadata": {
            "tags": []
          },
          "execution_count": 172
        }
      ]
    },
    {
      "cell_type": "code",
      "metadata": {
        "colab": {
          "base_uri": "https://localhost:8080/",
          "height": 35
        },
        "id": "dD9lxiSOfRAs",
        "outputId": "6bb1b5d6-dd1c-404b-f8cc-75aa79805405"
      },
      "source": [
        "fruits[-3]"
      ],
      "execution_count": 173,
      "outputs": [
        {
          "output_type": "execute_result",
          "data": {
            "application/vnd.google.colaboratory.intrinsic+json": {
              "type": "string"
            },
            "text/plain": [
              "'banana'"
            ]
          },
          "metadata": {
            "tags": []
          },
          "execution_count": 173
        }
      ]
    },
    {
      "cell_type": "code",
      "metadata": {
        "id": "G6bPQ0NvfZms"
      },
      "source": [
        "fruits.sort()"
      ],
      "execution_count": 174,
      "outputs": []
    },
    {
      "cell_type": "code",
      "metadata": {
        "colab": {
          "base_uri": "https://localhost:8080/"
        },
        "id": "lRAGPaYNf6kE",
        "outputId": "aa9ffe4e-7dab-402c-ace7-a8f0ec9be5a8"
      },
      "source": [
        "fruits"
      ],
      "execution_count": 175,
      "outputs": [
        {
          "output_type": "execute_result",
          "data": {
            "text/plain": [
              "['apple', 'banana', 'banana', 'cherry']"
            ]
          },
          "metadata": {
            "tags": []
          },
          "execution_count": 175
        }
      ]
    },
    {
      "cell_type": "code",
      "metadata": {
        "id": "Xy5-g2g8f7-s"
      },
      "source": [
        "fruits=tuple(fruits)"
      ],
      "execution_count": 176,
      "outputs": []
    },
    {
      "cell_type": "code",
      "metadata": {
        "colab": {
          "base_uri": "https://localhost:8080/"
        },
        "id": "SVDMGoSsgCFU",
        "outputId": "5ab3bed2-2bab-43bd-fba3-a9498e6ae8e4"
      },
      "source": [
        "fruits"
      ],
      "execution_count": 177,
      "outputs": [
        {
          "output_type": "execute_result",
          "data": {
            "text/plain": [
              "('apple', 'banana', 'banana', 'cherry')"
            ]
          },
          "metadata": {
            "tags": []
          },
          "execution_count": 177
        }
      ]
    },
    {
      "cell_type": "code",
      "metadata": {
        "id": "TNJ6dBVmgDf8"
      },
      "source": [
        ""
      ],
      "execution_count": null,
      "outputs": []
    }
  ]
}